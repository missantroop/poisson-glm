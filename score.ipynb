{
 "cells": [
  {
   "cell_type": "markdown",
   "id": "31acb04e",
   "metadata": {},
   "source": [
    "# Imports"
   ]
  },
  {
   "cell_type": "code",
   "execution_count": null,
   "id": "ba5982f2",
   "metadata": {},
   "outputs": [],
   "source": [
    "### imports pt1\n",
    "import numpy as np\n",
    "import pandas as pd\n",
    "import seaborn as sns\n",
    "import matplotlib.pyplot as plt\n",
    "\n",
    "# load from file\n",
    "from joblib import load"
   ]
  },
  {
   "cell_type": "code",
   "execution_count": null,
   "id": "83532610",
   "metadata": {},
   "outputs": [],
   "source": [
    "### imports pt2\n",
    "# sklearn stuff\n",
    "# NB! depending on your setup it may be necessary to install C++ build tools in order to install sklearn\n",
    "# this is possible through the VS installer as (roughly) described here: https://wiki.python.org/moin/WindowsCompilers\n",
    "from sklearn.metrics import mean_absolute_error, mean_squared_error, mean_tweedie_deviance, explained_variance_score"
   ]
  },
  {
   "cell_type": "markdown",
   "id": "b9142c04",
   "metadata": {},
   "source": [
    "# Definitions"
   ]
  },
  {
   "cell_type": "code",
   "execution_count": null,
   "id": "4d2078d3",
   "metadata": {},
   "outputs": [],
   "source": [
    "### load csv and format it appropriately\n",
    "def load_dataset(file='Case_study_data_v1.csv'):\n",
    "    df = pd.read_csv(file, sep=';', dtype={\n",
    "        'parameter_1':'category',\n",
    "        'parameter_5':'category',\n",
    "        'parameter_6':'category',\n",
    "        'parameter_7':'category',\n",
    "        'parameter_8':'category',\n",
    "        'parameter_9':'category'\n",
    "    })\n",
    "    \n",
    "    return df"
   ]
  },
  {
   "cell_type": "code",
   "execution_count": null,
   "id": "441266b2",
   "metadata": {},
   "outputs": [],
   "source": [
    "### check distribution of variables, plus claim rate per value of variable\n",
    "def check_parameter_predict(df, par):\n",
    "    df_agg = df.groupby(par, as_index=False).sum()\n",
    "    df_agg['claims_rate'] = df_agg['nr_claims']/df_agg['exposure']\n",
    "    df_agg['claims_rate_predict'] = df_agg['nr_claims_predict']/df_agg['exposure']\n",
    "\n",
    "    print(df_agg[[par,'nr_claims','nr_claims_predict','claims_rate','claims_rate_predict']])\n",
    "\n",
    "    fig, axes = plt.subplots(1,2,figsize=(15,5))\n",
    "    \n",
    "    # plot predicted rates vs observed rates in each category\n",
    "    idx_series = pd.Index(df_agg[par])\n",
    "    df_series = df_agg[['claims_rate','claims_rate_predict']].set_index(idx_series)\n",
    "\n",
    "    sns.scatterplot(data=df_series, ax=axes[0])\n",
    "    \n",
    "    # the normal plot from check_training()\n",
    "    sns.barplot(data=df_agg, x=par, y='exposure', ax=axes[1])\n",
    "    # a bit of a seaborn hack for two plots on same x-axis\n",
    "    sns.scatterplot(data=df_agg, x=np.arange(0,len(df_agg)), y='claims_rate', ax=axes[1].twinx())    \n",
    "    \n",
    "    plt.show()\n",
    "    \n",
    "    return df_agg"
   ]
  },
  {
   "cell_type": "code",
   "execution_count": null,
   "id": "4d552663",
   "metadata": {},
   "outputs": [],
   "source": [
    "def prep_data(df):\n",
    "    df['claims_rate'] = df['nr_claims']/df['exposure']\n",
    "    # exposure zero. could aggregate across features, which would make sense if those rows had exp>0\n",
    "    # i can't tell that from the data though, so i just remove these rows\n",
    "    df = df[df['exposure']>0]\n",
    "    \n",
    "    X = df.drop(columns=['exposure','nr_claims','claims_rate'])\n",
    "    y, w = df['claims_rate'], df['exposure']\n",
    "    \n",
    "    return X, y, w"
   ]
  },
  {
   "cell_type": "code",
   "execution_count": null,
   "id": "2cd25127",
   "metadata": {},
   "outputs": [],
   "source": [
    "def score_model(model, X, y, w):\n",
    "    y_predict = model.predict(X)\n",
    "    \n",
    "    score_functions = {#'MPD':'mean_tweedie_deviance',\n",
    "           'EVS':'explained_variance_score',\n",
    "           'mean absolute error':'mean_absolute_error',\n",
    "           'mean squared error':'mean_squared_error'}\n",
    "    \n",
    "    values = map(lambda f : f(y , y_predict, sample_weight=w),\n",
    "                 map(eval, score_functions.values())\n",
    "                )\n",
    "    \n",
    "    score = dict(zip(score_functions.keys(),values))\n",
    "\n",
    "    # built-in D2\n",
    "    score['Built in D2'] = model.score(X, y, sample_weight=w)\n",
    "    \n",
    "    # MPD\n",
    "    score['MPD'] = mean_tweedie_deviance(y, y_predict, sample_weight=w, power=1)\n",
    "    \n",
    "    return score, y_predict"
   ]
  },
  {
   "cell_type": "markdown",
   "id": "f2fd4711",
   "metadata": {},
   "source": [
    "## Program"
   ]
  },
  {
   "cell_type": "code",
   "execution_count": null,
   "id": "651dcf58",
   "metadata": {},
   "outputs": [],
   "source": [
    "# the file to import as scoring data\n",
    "score_data_file = 'test_data.csv'\n",
    "\n",
    "model = load('model.joblib')\n",
    "tf = load('transformer.joblib')\n",
    "\n",
    "df = load_dataset(score_data_file)\n",
    "X, y, w = prep_data(df)\n",
    "X_tf = tf.transform(X)"
   ]
  },
  {
   "cell_type": "code",
   "execution_count": null,
   "id": "2e6553e4",
   "metadata": {
    "scrolled": true
   },
   "outputs": [],
   "source": [
    "# score model\n",
    "metrics, y_predict = score_model(model, X_tf, y, w)"
   ]
  },
  {
   "cell_type": "code",
   "execution_count": null,
   "id": "93327fe4",
   "metadata": {},
   "outputs": [],
   "source": [
    "metrics"
   ]
  },
  {
   "cell_type": "markdown",
   "id": "7ff4e78c",
   "metadata": {},
   "source": [
    "## Visualise prediction vs observed"
   ]
  },
  {
   "cell_type": "code",
   "execution_count": null,
   "id": "aab1eb3f",
   "metadata": {},
   "outputs": [],
   "source": [
    "# compile scoring data and predictions\n",
    "X_full = pd.concat([X, w], axis=1).reset_index(drop=True)\n",
    "\n",
    "X_full['claims_rate'] = pd.Series(y.reset_index(drop=True))\n",
    "X_full['claims_rate_predict'] = pd.Series(y_predict)\n",
    "X_full['nr_claims'] = X_full['claims_rate'] * X_full['exposure']\n",
    "X_full['nr_claims_predict'] = X_full['claims_rate_predict'] * X_full['exposure']"
   ]
  },
  {
   "cell_type": "code",
   "execution_count": null,
   "id": "9675ace2",
   "metadata": {
    "scrolled": true
   },
   "outputs": [],
   "source": [
    "# visually compare predictions to training data\n",
    "X_agg = check_parameter_predict(X_full,'parameter_9')"
   ]
  }
 ],
 "metadata": {
  "kernelspec": {
   "display_name": "Python 3 (ipykernel)",
   "language": "python",
   "name": "python3"
  },
  "language_info": {
   "codemirror_mode": {
    "name": "ipython",
    "version": 3
   },
   "file_extension": ".py",
   "mimetype": "text/x-python",
   "name": "python",
   "nbconvert_exporter": "python",
   "pygments_lexer": "ipython3",
   "version": "3.9.1"
  }
 },
 "nbformat": 4,
 "nbformat_minor": 5
}
