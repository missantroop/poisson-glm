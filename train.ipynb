{
 "cells": [
  {
   "cell_type": "markdown",
   "id": "88e6cb06",
   "metadata": {},
   "source": [
    "# Imports"
   ]
  },
  {
   "cell_type": "code",
   "execution_count": null,
   "id": "94686838",
   "metadata": {},
   "outputs": [],
   "source": [
    "### imports pt1\n",
    "import numpy as np\n",
    "import pandas as pd\n",
    "import seaborn as sns\n",
    "import matplotlib.pyplot as plt\n",
    "\n",
    "# save to file\n",
    "from joblib import dump"
   ]
  },
  {
   "cell_type": "code",
   "execution_count": null,
   "id": "1ed44c35",
   "metadata": {},
   "outputs": [],
   "source": [
    "### imports pt2\n",
    "# sklearn stuff\n",
    "# NB! depending on your setup it may be necessary to install C++ build tools in order to install sklearn\n",
    "# this is possible through the VS installer as (roughly) described here: https://wiki.python.org/moin/WindowsCompilers\n",
    "from sklearn.model_selection import train_test_split\n",
    "from sklearn.preprocessing import StandardScaler, OneHotEncoder, FunctionTransformer\n",
    "from sklearn.compose import ColumnTransformer\n",
    "from sklearn.linear_model import PoissonRegressor"
   ]
  },
  {
   "cell_type": "markdown",
   "id": "1ab7657a",
   "metadata": {},
   "source": [
    "## Definitions"
   ]
  },
  {
   "cell_type": "code",
   "execution_count": null,
   "id": "809b02fa",
   "metadata": {
    "scrolled": true
   },
   "outputs": [],
   "source": [
    "### load csv and format it appropriately\n",
    "def load_dataset(file='Case_study_data_v1.csv'):\n",
    "    df = pd.read_csv(file, sep=';', dtype={\n",
    "        'parameter_1':'category',\n",
    "        'parameter_5':'category',\n",
    "        'parameter_6':'category',\n",
    "        'parameter_7':'category',\n",
    "        'parameter_8':'category',\n",
    "        'parameter_9':'category'\n",
    "    })\n",
    "    \n",
    "    return df"
   ]
  },
  {
   "cell_type": "code",
   "execution_count": null,
   "id": "df5092bb",
   "metadata": {
    "scrolled": true
   },
   "outputs": [],
   "source": [
    "### check distribution of variables, plus claim rate per value of variable\n",
    "def check_parameter(df, par):\n",
    "    df_agg = df.groupby(par, as_index=False).sum()\n",
    "    df_agg['claims_rate'] = df_agg['nr_claims']/df_agg['exposure']\n",
    "\n",
    "    print(df_agg[[par,'exposure','nr_claims','claims_rate']])\n",
    "\n",
    "    fig, ax1 = plt.subplots()\n",
    "    ax2 = ax1.twinx()\n",
    "    \n",
    "    sns.barplot(data=df_agg, x=par, y='exposure', ax=ax1)\n",
    "    # a bit of a seaborn hack for two plots on same x-axis\n",
    "    sns.scatterplot(data=df_agg, x=np.arange(0,len(df_agg)), y='claims_rate', ax=ax2)\n",
    "    \n",
    "    plt.show()\n",
    "    \n",
    "    return df_agg"
   ]
  },
  {
   "cell_type": "code",
   "execution_count": null,
   "id": "48980815",
   "metadata": {},
   "outputs": [],
   "source": [
    "### check distribution of variables, plus claim rate per value of variable\n",
    "def check_parameter_predict(df, par):\n",
    "    df_agg = df.groupby(par, as_index=False).sum()\n",
    "    df_agg['claims_rate'] = df_agg['nr_claims']/df_agg['exposure']\n",
    "    df_agg['claims_rate_predict'] = df_agg['nr_claims_predict']/df_agg['exposure']\n",
    "\n",
    "    print(df_agg[[par,'nr_claims','nr_claims_predict','claims_rate','claims_rate_predict']])\n",
    "\n",
    "    fig, axes = plt.subplots(1,2,figsize=(15,5))\n",
    "    \n",
    "    # plot predicted rates vs observed rates in each category\n",
    "    idx_series = pd.Index(df_agg[par])\n",
    "    df_series = df_agg[['claims_rate','claims_rate_predict']].set_index(idx_series)\n",
    "\n",
    "    sns.scatterplot(data=df_series, ax=axes[0])\n",
    "    \n",
    "    # the normal plot from check_training()\n",
    "    sns.barplot(data=df_agg, x=par, y='exposure', ax=axes[1])\n",
    "    # a bit of a seaborn hack for two plots on same x-axis\n",
    "    sns.scatterplot(data=df_agg, x=np.arange(0,len(df_agg)), y='claims_rate', ax=axes[1].twinx())    \n",
    "    \n",
    "    plt.show()\n",
    "    \n",
    "    return df_agg"
   ]
  },
  {
   "cell_type": "code",
   "execution_count": null,
   "id": "1e960b80",
   "metadata": {},
   "outputs": [],
   "source": [
    "def prep_data(df):\n",
    "    df['claims_rate'] = df['nr_claims']/df['exposure']\n",
    "    # exposure zero. could aggregate across features, which would make sense if those rows had exp>0\n",
    "    # i can't tell that from the data though, so i just remove these rows\n",
    "    df = df[df['exposure']>0]\n",
    "    \n",
    "    X = df.drop(columns=['exposure','nr_claims','claims_rate'])\n",
    "    y, w = df['claims_rate'], df['exposure']\n",
    "    \n",
    "    return X, y, w"
   ]
  },
  {
   "cell_type": "code",
   "execution_count": null,
   "id": "d14df0fb",
   "metadata": {},
   "outputs": [],
   "source": [
    "### split dataset into train/score (if necessary) and rescale/encode variables\n",
    "def split_prep_data(df, num_feat, cat_feat, split=True):\n",
    "    X, y, w = prep_data(df)\n",
    "    \n",
    "    big_transformer = ColumnTransformer(\n",
    "    [\n",
    "        # want to rescale numerical features to mean=0 var=1\n",
    "        ('num', StandardScaler(), num_feat),\n",
    "        \n",
    "        # want to one-hot encode categorical features\n",
    "        # TODO: OneHotEncoder() supports array argument to drop= \n",
    "            # this will specify which category should be dropped (baseline category)\n",
    "            # ideally this would be category with most exposure\n",
    "        ('cat', OneHotEncoder(handle_unknown='ignore',drop='first'), cat_feat)\n",
    "    ]\n",
    "    )\n",
    "\n",
    "    if split:\n",
    "        X_train, X_test, y_train, y_test, w_train, w_test = train_test_split(X, y, w, test_size=0.25, random_state=1337)\n",
    "    else:\n",
    "        X_train, X_test, y_train, y_test, w_train, w_test = X, None, y, None, w, None\n",
    "    \n",
    "    big_transformer.fit(X_train)\n",
    "    \n",
    "    return X_train, X_test, y_train, y_test, w_train, w_test, big_transformer"
   ]
  },
  {
   "cell_type": "code",
   "execution_count": null,
   "id": "f9d9078d",
   "metadata": {},
   "outputs": [],
   "source": [
    "def train_model(X_train, y_train, w_train):\n",
    "    # log-link Poisson GLM\n",
    "    model = PoissonRegressor(max_iter=5000, alpha=1e-3)\n",
    "    \n",
    "    model.fit(X_train, y_train, sample_weight=w_train)\n",
    "    \n",
    "    return model"
   ]
  },
  {
   "cell_type": "markdown",
   "id": "990275ae",
   "metadata": {},
   "source": [
    "# Load dataset and look at it"
   ]
  },
  {
   "cell_type": "code",
   "execution_count": null,
   "id": "6c0073d4",
   "metadata": {},
   "outputs": [],
   "source": [
    "df = load_dataset()"
   ]
  },
  {
   "cell_type": "code",
   "execution_count": null,
   "id": "253d62f2",
   "metadata": {},
   "outputs": [],
   "source": [
    "df"
   ]
  },
  {
   "cell_type": "code",
   "execution_count": null,
   "id": "2606e7a4",
   "metadata": {
    "scrolled": true
   },
   "outputs": [],
   "source": [
    "df.info()\n",
    "df.describe()"
   ]
  },
  {
   "cell_type": "code",
   "execution_count": null,
   "id": "65a02c57",
   "metadata": {
    "scrolled": true
   },
   "outputs": [],
   "source": [
    "# checking how exposure/varies across variables\n",
    "df_agg = check_parameter(df, 'parameter_4')"
   ]
  },
  {
   "cell_type": "markdown",
   "id": "c12b1914",
   "metadata": {},
   "source": [
    "# Program"
   ]
  },
  {
   "cell_type": "code",
   "execution_count": null,
   "id": "f3fe9756",
   "metadata": {},
   "outputs": [],
   "source": [
    "# set to False to use ALL of case data for training. otherwise test data is saved\n",
    "split_case_data = True\n",
    "\n",
    "num_feat = ['parameter_2', 'parameter_3', 'parameter_4']\n",
    "# ignore parameter_1 for now as it is too messy (groups too small).\n",
    "# if i knew what it represented i could possibly do some groupings\n",
    "cat_feat = ['parameter_5', 'parameter_6', 'parameter_7', 'parameter_8', 'parameter_9']\n",
    "\n",
    "X_train, X_test, y_train, y_test, w_train, w_test, tf = split_prep_data(df, num_feat, cat_feat, split=split_case_data)\n",
    "\n",
    "X_train_tf = tf.transform(X_train)\n",
    "\n",
    "model = train_model(X_train_tf, y_train, w_train)"
   ]
  },
  {
   "cell_type": "code",
   "execution_count": null,
   "id": "09617cdf",
   "metadata": {},
   "outputs": [],
   "source": [
    "# compile training data and predictions\n",
    "X_train_full = pd.concat([X_train, w_train], axis=1).reset_index(drop=True)\n",
    "\n",
    "X_train_full['claims_rate'] = pd.Series(y_train.reset_index(drop=True))\n",
    "X_train_full['claims_rate_predict'] = pd.Series(model.predict(X_train_tf))\n",
    "X_train_full['nr_claims'] = X_train_full['claims_rate'] * X_train_full['exposure']\n",
    "X_train_full['nr_claims_predict'] = X_train_full['claims_rate_predict'] * X_train_full['exposure']"
   ]
  },
  {
   "cell_type": "code",
   "execution_count": null,
   "id": "3720d3c5",
   "metadata": {
    "scrolled": true
   },
   "outputs": [],
   "source": [
    "# visually compare predictions to training data\n",
    "train_df_agg = check_parameter_predict(X_train_full, 'parameter_8')"
   ]
  },
  {
   "cell_type": "markdown",
   "id": "57bb5794",
   "metadata": {},
   "source": [
    "## Save model (and optionally scoring data)"
   ]
  },
  {
   "cell_type": "code",
   "execution_count": null,
   "id": "d0c326a5",
   "metadata": {},
   "outputs": [],
   "source": [
    "#save model and transformer\n",
    "dump(model, 'model.joblib')\n",
    "dump(tf, 'transformer.joblib')\n",
    "\n",
    "if split_case_data:\n",
    "    #save scoring data. same structure as in initial file\n",
    "    df_test = pd.concat([X_test, w_test, pd.Series(y_test*w_test,dtype='int64').to_frame('nr_claims')], axis=1)\n",
    "    df_test.to_csv('test_data.csv', sep=';', index=False)\n",
    "    \n",
    "    #save scoring data. same structure as in initial file\n",
    "    df_train = pd.concat([X_train, w_train, pd.Series(y_train*w_train,dtype='int64').to_frame('nr_claims')], axis=1)\n",
    "    df_train.to_csv('train_data.csv', sep=';', index=False)"
   ]
  },
  {
   "cell_type": "markdown",
   "id": "398a4057",
   "metadata": {},
   "source": [
    "## Extra stuff"
   ]
  },
  {
   "cell_type": "code",
   "execution_count": null,
   "id": "0fd62a3d",
   "metadata": {},
   "outputs": [],
   "source": [
    "(9+5+4+5+2)+3-5"
   ]
  },
  {
   "cell_type": "code",
   "execution_count": null,
   "id": "0977f4a1",
   "metadata": {
    "scrolled": true
   },
   "outputs": [],
   "source": [
    "# number of variables in final matrix\n",
    "print(X_train_tf.shape)\n",
    "\n",
    "# unique values in all fields\n",
    "print(df.nunique())\n",
    "# [#Cats in all chosen cat. features] + [#chosen num. features] - [#dropped categories]\n",
    "(9+5+4+5+2)+3-5\n",
    "# this number should be the same as number of columns in the transformed training data\n",
    "# parameter_1 fails this sanity check because some categories are very small"
   ]
  }
 ],
 "metadata": {
  "kernelspec": {
   "display_name": "Python 3 (ipykernel)",
   "language": "python",
   "name": "python3"
  },
  "language_info": {
   "codemirror_mode": {
    "name": "ipython",
    "version": 3
   },
   "file_extension": ".py",
   "mimetype": "text/x-python",
   "name": "python",
   "nbconvert_exporter": "python",
   "pygments_lexer": "ipython3",
   "version": "3.9.1"
  }
 },
 "nbformat": 4,
 "nbformat_minor": 5
}
